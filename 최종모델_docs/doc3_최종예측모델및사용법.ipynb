{
 "cells": [
  {
   "cell_type": "markdown",
   "metadata": {},
   "source": [
    "# 1) 각 버스노선의 데이터"
   ]
  },
  {
   "cell_type": "code",
   "execution_count": 21,
   "metadata": {},
   "outputs": [
    {
     "name": "stdout",
     "output_type": "stream",
     "text": [
      "Train data: 2604 개\n",
      "Test data: 868 개\n"
     ]
    }
   ],
   "source": [
    "#5100번 버스 \n",
    "import pandas as pd\n",
    "from sklearn.model_selection import train_test_split\n",
    "\n",
    "data=pd.read_csv('./사색역데이터/5100_combined.csv')\n",
    "\n",
    "data = data.drop(data[(data.station1==1) & (data.arrived!=0)].index)# 이상치 제거\n",
    "data = data.drop(data[(data.station2==1) & (data.arrived==0)].index)# 이상치 제거\n",
    "data = data.set_index('시간')\n",
    "x_train,x_test,y_train,y_test=train_test_split(data.iloc[:,1:],data['arrived'],random_state=11,shuffle=True)\n",
    "print('Train data:',len(x_train),'개');print('Test data:',len(x_test),'개')"
   ]
  },
  {
   "cell_type": "code",
   "execution_count": 24,
   "metadata": {},
   "outputs": [
    {
     "name": "stdout",
     "output_type": "stream",
     "text": [
      "Train data: 2718 개\n",
      "Test data: 907 개\n"
     ]
    }
   ],
   "source": [
    "#1112번 버스\n",
    "\n",
    "data=pd.read_csv('./사색역데이터/1112_combined.csv');data = data.set_index('시간')\n",
    "\n",
    "data = data.drop(data[(data.station2==1) & (data.arrived!=0)].index)# 이상치 제거\n",
    "x_train,x_test,y_train,y_test=train_test_split(data.iloc[:,1:],data['arrived'],random_state=11,shuffle=True)\n",
    "print('Train data:',len(x_train),'개');print('Test data:',len(x_test),'개')"
   ]
  },
  {
   "cell_type": "code",
   "execution_count": 17,
   "metadata": {},
   "outputs": [
    {
     "name": "stdout",
     "output_type": "stream",
     "text": [
      "Train data: 2855 개\n",
      "Test data: 952 개\n"
     ]
    }
   ],
   "source": [
    "# 9\n",
    "df=pd.read_csv('./사색역데이터/9_combined.csv')\n",
    "df=df.drop(df[df.arrived>2000].index)# 이상치 제거\n",
    "data=df\n",
    "data = data.drop(data[(data.station1==1) & (data.arrived!=0)].index)# 이상치 제거\n",
    "data = data.drop(data[(data.station2==1) & (data.arrived==0)].index)# 이상치 제거\n",
    "data = data.set_index('시간')\n",
    "x_train,x_test,y_train,y_test=train_test_split(data.iloc[:,1:],data['arrived'],random_state=11,shuffle=True)\n",
    "print('Train data:',len(x_train),'개');print('Test data:',len(x_test),'개')"
   ]
  },
  {
   "cell_type": "code",
   "execution_count": 18,
   "metadata": {},
   "outputs": [
    {
     "name": "stdout",
     "output_type": "stream",
     "text": [
      "Train data: 909 개\n",
      "Test data: 303 개\n"
     ]
    }
   ],
   "source": [
    "#7000\n",
    "df=pd.read_csv('./사색역데이터/7000_combined.csv')\n",
    "df=df.drop(df[df.arrived>1800].index)# 이상치 제거\n",
    "data=df\n",
    "data = data.drop(data[(data.station1==1) & (data.arrived!=0)].index)# 이상치 제거\n",
    "data = data.drop(data[(data.station2==1) & (data.arrived==0)].index)# 이상치 제거\n",
    "data = data.set_index('시간')\n",
    "x_train,x_test,y_train,y_test=train_test_split(data.iloc[:,1:],data['arrived'],random_state=11,shuffle=True)\n",
    "print('Train data:',len(x_train),'개');print('Test data:',len(x_test),'개')"
   ]
  },
  {
   "cell_type": "markdown",
   "metadata": {},
   "source": [
    "# 2)모델 학습 및 저장(pickle module)\n",
    "## ex) 1112번 버스 모델"
   ]
  },
  {
   "cell_type": "code",
   "execution_count": 29,
   "metadata": {},
   "outputs": [],
   "source": [
    "from sklearn.ensemble import RandomForestRegressor\n",
    "\n",
    "rf_model = RandomForestRegressor(n_jobs=-1,n_estimators=300,random_state=1)\n",
    "rf_model.fit(data.iloc[:,1:],data['arrived'])\n",
    "\n",
    "import pickle\n",
    "with open('1112_regressor.pkl','wb') as file:\n",
    "    pickle.dump(rf_model,file)"
   ]
  },
  {
   "cell_type": "markdown",
   "metadata": {},
   "source": [
    "# 3) 실시간 도착예정정보 예측하기"
   ]
  },
  {
   "cell_type": "code",
   "execution_count": 30,
   "metadata": {},
   "outputs": [
    {
     "data": {
      "text/plain": [
       "array([377.8])"
      ]
     },
     "execution_count": 30,
     "metadata": {},
     "output_type": "execute_result"
    }
   ],
   "source": [
    "from getInput import *\n",
    "import pickle\n",
    "#모델 로드\n",
    "model = pickle.load(open('1112_regressor.pkl', 'rb'))\n",
    "# 인풋값 생성\n",
    "pBus=Bus(p1112)\n",
    "soup=pBus.repet()\n",
    "pBus.bus_time.append([soup.queryTime.text,pBus.current_buses()])\n",
    "data=pd.DataFrame(pBus.bus_time,columns=['시간','운행중인 다른 버스들의 위치'])\n",
    "now=trim_data(data,1112)\n",
    "result = model.predict(now)\n",
    "result"
   ]
  }
 ],
 "metadata": {
  "kernelspec": {
   "display_name": "Python 3",
   "language": "python",
   "name": "python3"
  },
  "language_info": {
   "codemirror_mode": {
    "name": "ipython",
    "version": 3
   },
   "file_extension": ".py",
   "mimetype": "text/x-python",
   "name": "python",
   "nbconvert_exporter": "python",
   "pygments_lexer": "ipython3",
   "version": "3.7.6"
  },
  "vscode": {
   "interpreter": {
    "hash": "452a15c453464d4353af4349f33fe48dbc0df1f66c659583061b068278b60d31"
   }
  }
 },
 "nbformat": 4,
 "nbformat_minor": 4
}
