{
 "cells": [
  {
   "cell_type": "markdown",
   "metadata": {},
   "source": [
    "# pseudo code "
   ]
  },
  {
   "cell_type": "code",
   "execution_count": null,
   "metadata": {},
   "outputs": [],
   "source": [
    "다른 버스들과 마찬가지로 1112번도 사색에서 도착정보(사색의 광장에 버스가 도착하기 전까지 몇분 남았는지)를 수집할 수 없다. \n",
    "그래서 생대역의 도착 정보를 이용할 것이다.\n",
    "생대역에서 도착정보 없음 계속 뜨다가 처음 정상처리이 뜨는 순간이 사색에 버스가 도착했다는 뜻이다. 그때마다 시간을 기록할 것이다. \n",
    "그리고 사색의 광장에 버스가 도착했을 당시에, 운행중인 1112번 버스들의 위치(정류장)도 함께 수집해서 규칙성이 존재하는지 볼 것이다. \n",
    "이 코드의 특징:\n",
    "1112번외에도 다른 버스들도 똑같이 수집 가능하고,\n",
    "불연속 점을 도출하기 위해 초마다 api 호출을 안해도 되고, \n",
    "[사색 도착시간,운행중인 ㅇㅇ버스들의 현 위치]를 수집할 수 있다.\n",
    "\n",
    "past=없다\n",
    "1분마다 요청을 한다.\n",
    "    result=도착정보가 있다 or 없다\n",
    "    if past!=result:\n",
    "        if result==도착정보 있다\n",
    "            처음으로 '있다'가 나왔다. '현시간=사색 도착 시간'을 저장한다. \n",
    "    past=result 값 임시 저장"
   ]
  },
  {
   "cell_type": "markdown",
   "metadata": {},
   "source": [
    "# 실제코드"
   ]
  },
  {
   "cell_type": "code",
   "execution_count": 26,
   "metadata": {},
   "outputs": [],
   "source": [
    "import requests\n",
    "from bs4 import BeautifulSoup\n",
    "import pandas as pd\n",
    "from datetime import datetime\n",
    "import time\n",
    "\n",
    "bus_time=[]\n",
    "p5100 ={'serviceKey' : 'Jw+++HTzL3V8lfZPcQPb5jB5Rae2NH3BYowjBY+cgMIA1yDcwJNfmtfO+E+O+whPsGCGbJmmpf/X904L4uwGIw==',\n",
    "             'routeId':'200000115','stationId':'228000704'}#5100 생과대\n",
    "p1112 ={'serviceKey' : 'Jw+++HTzL3V8lfZPcQPb5jB5Rae2NH3BYowjBY+cgMIA1yDcwJNfmtfO+E+O+whPsGCGbJmmpf/X904L4uwGIw==',\n",
    "         'routeId':'234000016','stationId':'228000704'}#1112 생과대\n",
    "\n",
    "def repet(params): \n",
    "    url = 'http://apis.data.go.kr/6410000/busarrivalservice/getBusArrivalItem'\n",
    "    response = requests.get(url, params=params);\n",
    "    soup=BeautifulSoup(response.text,'xml')\n",
    "    return soup\n",
    "\n",
    "def current_buses(): # 사색의 광장에 버스가 도착했을 때, 운행중인 같은 노선의 버스들의 위치(정류장)를 수집  \n",
    "    url = 'http://apis.data.go.kr/6410000/buslocationservice/getBusLocationList'\n",
    "    params ={'serviceKey' : 'Jw+++HTzL3V8lfZPcQPb5jB5Rae2NH3BYowjBY+cgMIA1yDcwJNfmtfO+E+O+whPsGCGbJmmpf/X904L4uwGIw==',\n",
    "              'routeId':'234000016'}#1112번 노선id\n",
    "    response=requests.get(url,params=params)\n",
    "    soup=BeautifulSoup(response.text,'xml')\n",
    "    locations=sorted([int(x.stationSeq.text) for x in soup.find_all('busLocationList')])\n",
    "    return locations\n"
   ]
  },
  {
   "cell_type": "code",
   "execution_count": 27,
   "metadata": {},
   "outputs": [
    {
     "name": "stdout",
     "output_type": "stream",
     "text": [
      "0 번째 시도:  []\n",
      "1 번째 시도:  []\n",
      "2 번째 시도:  []\n",
      "3 번째 시도:  []\n",
      "4 번째 시도:  []\n",
      "5 번째 시도:  []\n",
      "6 번째 시도:  []\n",
      "7 번째 시도:  []\n",
      "8 번째 시도:  [['2022-07-02 13:52:26.432', [2, 15, 19, 25, 32, 39, 45, 52, 61, 68]]]\n",
      "9 번째 시도:  [['2022-07-02 13:52:26.432', [2, 15, 19, 25, 32, 39, 45, 52, 61, 68]]]\n"
     ]
    },
    {
     "data": {
      "text/html": [
       "<div>\n",
       "<style scoped>\n",
       "    .dataframe tbody tr th:only-of-type {\n",
       "        vertical-align: middle;\n",
       "    }\n",
       "\n",
       "    .dataframe tbody tr th {\n",
       "        vertical-align: top;\n",
       "    }\n",
       "\n",
       "    .dataframe thead th {\n",
       "        text-align: right;\n",
       "    }\n",
       "</style>\n",
       "<table border=\"1\" class=\"dataframe\">\n",
       "  <thead>\n",
       "    <tr style=\"text-align: right;\">\n",
       "      <th></th>\n",
       "      <th>사색 도착 시간</th>\n",
       "      <th>운행중인 다른 버스들의 위치</th>\n",
       "    </tr>\n",
       "  </thead>\n",
       "  <tbody>\n",
       "    <tr>\n",
       "      <th>0</th>\n",
       "      <td>2022-07-02 13:52:26.432</td>\n",
       "      <td>[2, 15, 19, 25, 32, 39, 45, 52, 61, 68]</td>\n",
       "    </tr>\n",
       "  </tbody>\n",
       "</table>\n",
       "</div>"
      ],
      "text/plain": [
       "                  사색 도착 시간                          운행중인 다른 버스들의 위치\n",
       "0  2022-07-02 13:52:26.432  [2, 15, 19, 25, 32, 39, 45, 52, 61, 68]"
      ]
     },
     "execution_count": 27,
     "metadata": {},
     "output_type": "execute_result"
    }
   ],
   "source": [
    "past=4\n",
    "for x in range(10): # 10분간\n",
    "    soup=repet(p1112)\n",
    "    try:\n",
    "        result=int(soup.resultCode.text)\n",
    "        if past!=result:\n",
    "            if result==0:\n",
    "                bus_time.append([soup.queryTime.text,current_buses()])\n",
    "        past=result\n",
    "        print(x,\"번째 시도: \",bus_time)\n",
    "        time.sleep(60)\n",
    "    except Exception as e:\n",
    "        continue\n",
    "df=pd.DataFrame(bus_time,columns=['사색 도착 시간','운행중인 다른 버스들의 위치'])\n",
    "df"
   ]
  },
  {
   "cell_type": "code",
   "execution_count": 30,
   "metadata": {},
   "outputs": [
    {
     "data": {
      "text/html": [
       "<div>\n",
       "<style scoped>\n",
       "    .dataframe tbody tr th:only-of-type {\n",
       "        vertical-align: middle;\n",
       "    }\n",
       "\n",
       "    .dataframe tbody tr th {\n",
       "        vertical-align: top;\n",
       "    }\n",
       "\n",
       "    .dataframe thead th {\n",
       "        text-align: right;\n",
       "    }\n",
       "</style>\n",
       "<table border=\"1\" class=\"dataframe\">\n",
       "  <thead>\n",
       "    <tr style=\"text-align: right;\">\n",
       "      <th></th>\n",
       "      <th>사색 도착 시간</th>\n",
       "      <th>운행중인 다른 버스들의 위치</th>\n",
       "    </tr>\n",
       "  </thead>\n",
       "  <tbody>\n",
       "    <tr>\n",
       "      <th>0</th>\n",
       "      <td>2022-07-02 13:52:26.432</td>\n",
       "      <td>[2, 15, 19, 25, 32, 39, 45, 52, 61, 68]</td>\n",
       "    </tr>\n",
       "  </tbody>\n",
       "</table>\n",
       "</div>"
      ],
      "text/plain": [
       "                 사색 도착 시간                          운행중인 다른 버스들의 위치\n",
       "0 2022-07-02 13:52:26.432  [2, 15, 19, 25, 32, 39, 45, 52, 61, 68]"
      ]
     },
     "execution_count": 30,
     "metadata": {},
     "output_type": "execute_result"
    }
   ],
   "source": [
    "# string 값인 시간을 datetime객체로 바꾼다. \n",
    "df['사색 도착 시간'] = df['사색 도착 시간'].apply(pd.to_datetime)\n",
    "df"
   ]
  },
  {
   "cell_type": "markdown",
   "metadata": {},
   "source": [
    "# 오늘은 주말이라 버스가 너무 없지만 평일 데이터가 점점 쌓이면 규칙을 발견할 수 있을 것 같다."
   ]
  }
 ],
 "metadata": {
  "kernelspec": {
   "display_name": "Python 3",
   "language": "python",
   "name": "python3"
  },
  "language_info": {
   "codemirror_mode": {
    "name": "ipython",
    "version": 3
   },
   "file_extension": ".py",
   "mimetype": "text/x-python",
   "name": "python",
   "nbconvert_exporter": "python",
   "pygments_lexer": "ipython3",
   "version": "3.7.6"
  }
 },
 "nbformat": 4,
 "nbformat_minor": 4
}
